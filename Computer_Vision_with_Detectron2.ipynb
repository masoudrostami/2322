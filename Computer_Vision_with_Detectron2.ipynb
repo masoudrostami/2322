{
  "nbformat": 4,
  "nbformat_minor": 0,
  "metadata": {
    "colab": {
      "provenance": [],
      "authorship_tag": "ABX9TyOTqhjhvZwlQhwMvR75E0Vb",
      "include_colab_link": true
    },
    "kernelspec": {
      "name": "python3",
      "display_name": "Python 3"
    },
    "language_info": {
      "name": "python"
    }
  },
  "cells": [
    {
      "cell_type": "markdown",
      "metadata": {
        "id": "view-in-github",
        "colab_type": "text"
      },
      "source": [
        "<a href=\"https://colab.research.google.com/github/masoudrostami/2322/blob/master/Computer_Vision_with_Detectron2.ipynb\" target=\"_parent\"><img src=\"https://colab.research.google.com/assets/colab-badge.svg\" alt=\"Open In Colab\"/></a>"
      ]
    },
    {
      "cell_type": "markdown",
      "source": [
        "It enables users to start developing deep learning applications with zero configuration because most common machine learning and deep learning packages, such as PyTorch and TensorFlow, are pre-installed"
      ],
      "metadata": {
        "id": "rxraD8wbZcyk"
      }
    },
    {
      "cell_type": "code",
      "source": [],
      "metadata": {
        "id": "FcSIjmN2Zel0"
      },
      "execution_count": null,
      "outputs": []
    }
  ]
}